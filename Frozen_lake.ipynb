{
  "nbformat": 4,
  "nbformat_minor": 0,
  "metadata": {
    "colab": {
      "name": "Frozen_lake.ipynb",
      "provenance": [],
      "collapsed_sections": [],
      "include_colab_link": true
    },
    "kernelspec": {
      "name": "python3",
      "display_name": "Python 3"
    }
  },
  "cells": [
    {
      "cell_type": "markdown",
      "metadata": {
        "id": "view-in-github",
        "colab_type": "text"
      },
      "source": [
        "<a href=\"https://colab.research.google.com/github/Sanjayso27/RL_Frozen_Lake/blob/main/Frozen_lake.ipynb\" target=\"_parent\"><img src=\"https://colab.research.google.com/assets/colab-badge.svg\" alt=\"Open In Colab\"/></a>"
      ]
    },
    {
      "cell_type": "markdown",
      "metadata": {
        "id": "qH7ubidoNaEv"
      },
      "source": [
        "# **Frozen Lake Problem Description:**\n",
        "Implementing and training an RL agent to find a path for the frozen lake problem. \n"
      ]
    },
    {
      "cell_type": "markdown",
      "metadata": {
        "id": "LTCY_Ip1M9Qc"
      },
      "source": [
        "\n",
        "\n",
        "![frozen-lake](https://static.packt-cdn.com/products/9781788836524/graphics/49f3e058-2f32-40e8-9992-b53d1f57d138.png)\n",
        "\n",
        "\n",
        "#### Q-learning\n",
        " `Q[state, action]` gives  an action state pair to get an optimal policy.The Q-Loss equation becomes:\n",
        "> $E = ||r + \\gamma \\cdot \\max_{a'} Q(s', a') - Q(s, a)||^2$\n",
        "\n",
        "We can use the above loss equation to work out a learning rule for $Q(s, a)$. \n"
      ]
    },
    {
      "cell_type": "markdown",
      "metadata": {
        "id": "pbkIHLK7NFEw"
      },
      "source": [
        "### Defining important functions"
      ]
    },
    {
      "cell_type": "code",
      "metadata": {
        "id": "QnnNULcYQNRj"
      },
      "source": [
        "import numpy as np\n",
        "import matplotlib.pyplot as plt\n",
        "import copy\n",
        "\n",
        "from numpy.random import choice as randC\n",
        "from numpy.random import uniform as randU"
      ],
      "execution_count": null,
      "outputs": []
    },
    {
      "cell_type": "code",
      "metadata": {
        "id": "n9vGeSBZEG-r"
      },
      "source": [
        "ActionMap = ['Up', 'Right', 'Down', 'Left']"
      ],
      "execution_count": null,
      "outputs": []
    },
    {
      "cell_type": "code",
      "metadata": {
        "id": "izQzYoXBHVgr"
      },
      "source": [
        "def get_board(N, M):\n",
        "  # should return an N x N size frozen lake - board with M randomly placed holes.\n",
        "  # use 'S' representation for starting point\n",
        "  # use 'G' representation for goal point\n",
        "  # use 'H' representation for holes\n",
        "  # use 'F' for frozen lakes\n",
        "  # use 'C' for displaying agents current position on the board.\n",
        "  # Refer the representation from the image shown above\n",
        "\n",
        "  # ----------\n",
        "  row = ['F' for i in range(N)]\n",
        "  board = [row for i in range(N)]\n",
        "  board = np.array(board, dtype=str)\n",
        "  rng = np.random.default_rng()\n",
        "  H = rng.choice(range(1, N*N), size=M, replace=False)\n",
        "  for i in H:\n",
        "      board[int(i/N)][int(i%N)] = 'H'\n",
        "  \n",
        "  board[0, 0] = 'S'\n",
        "  board[N-1, N-1] = 'G'\n",
        "  # -------------------------------\n",
        "\n",
        "  return board"
      ],
      "execution_count": null,
      "outputs": []
    },
    {
      "cell_type": "code",
      "metadata": {
        "id": "nu6PW4KhIZH7"
      },
      "source": [
        "def get_reward(board, N, M):\n",
        "  # should return an N x N size reward table for the generated frozen lake scenario\n",
        "  # use 50 reward for 'G' point\n",
        "  # use -50 reward for 'H' point\n",
        "  # o for rest.\n",
        "\n",
        "  # ----------\n",
        "\n",
        "  reward = np.zeros(board.shape).astype('int')\n",
        "\n",
        "  for i in range(board.shape[0]):\n",
        "    for j in range(board.shape[1]):\n",
        "      if(board[i][j] == 'H'):\n",
        "        reward[i][j] = -50\n",
        "      if(board[i][j] == 'G'):\n",
        "        reward[i][j] = 50\n",
        "\n",
        "  # -------------------------------\n",
        "\n",
        "  return reward"
      ],
      "execution_count": null,
      "outputs": []
    },
    {
      "cell_type": "code",
      "metadata": {
        "id": "B1ueYhO8Ecnh"
      },
      "source": [
        "class FrozenLake:\n",
        "  def __init__(self, N, M):\n",
        "    # Should intialise the board and reward table based on the reward scheme\n",
        "    # Select M numbers of holes randomly\n",
        "\n",
        "    self.board = get_board(N, M)\n",
        "    self.init_board = copy.deepcopy(self.board)\n",
        "    self.reward = get_reward(self.board, N, M)\n",
        "    self.state = (0, 0)\n",
        "    self.board[self.state] = 'C'\n",
        "    self.finish = 0\n",
        "    self.N = N\n",
        "\n",
        "  def reset(self):\n",
        "    # should reset the env with board to initial state\n",
        "\n",
        "    # ----------\n",
        "    self.state = (0, 0)\n",
        "    self.board = copy.deepcopy(self.init_board)\n",
        "    self.board[self.state] = 'C'\n",
        "    # -------------------------------\n",
        "    self.finish = 0\n",
        "\n",
        "    return self.state\n",
        "  \n",
        "  def step(self, action):\n",
        "    # ===== Action Table =========\n",
        "    #     0 -- UP\n",
        "    #     1 -- RIGHT\n",
        "    #     2 -- DOWN\n",
        "    #     3 -- LEFT\n",
        "    # perform the given action and update the  self.state, get reward, and update the self.board according to new state\n",
        "    # update the self.board means update the new position with 'C' and replace previous position with {'S', 'F', 'G'} which is actually there according to the self.init_board\n",
        "\n",
        "    #  ----------\n",
        "    self.board[self.state] = self.init_board[self.state]\n",
        "\n",
        "    if action == 0: self.state = (self.state[0] - 1, self.state[1])\n",
        "    elif action == 1: self.state = (self.state[0], self.state[1] + 1)\n",
        "    elif action == 2: self.state = (self.state[0] + 1, self.state[1])\n",
        "    elif action == 3: self.state = (self.state[0], self.state[1] - 1)\n",
        "\n",
        "    reward = self.reward[self.state]\n",
        "\n",
        "    self.board[self.state] = 'C'\n",
        "    N = self.N\n",
        "    # -------------------------------\n",
        "    \n",
        "    # status to check if goal is reached\n",
        "    if self.state == (N-1, N-1):\n",
        "        self.finish = 1\n",
        "        \n",
        "    return self.state, reward, self.finish\n",
        "  \n",
        "  def get_random_action(self):\n",
        "    # ===== Action Table =========\n",
        "    #     0 -- UP\n",
        "    #     1 -- RIGHT\n",
        "    #     2 -- DOWN\n",
        "    #     3 -- LEFT\n",
        "    # should return a possible random action out of the four\n",
        "    # when we are around the corner or sides of the board not all four action will be available for us\n",
        "\n",
        "    #  ----------\n",
        "    if(self.state[0] == 0):\n",
        "      if(self.state[1] == 0):\n",
        "        action = np.random.choice([1,2])\n",
        "      elif(self.state[1] == (self.N-1)):\n",
        "        action = np.random.choice([2,3])\n",
        "      else:\n",
        "        action = np.random.choice([1,2,3])\n",
        "    elif(self.state[0] == (self.N-1)):\n",
        "      if(self.state[1] == 0):\n",
        "        action = np.random.choice([0,1])\n",
        "      elif(self.state[1] == (self.N-1)):\n",
        "        action = np.random.choice([0,3])\n",
        "      else:\n",
        "        action = np.random.choice([0,1,3])\n",
        "    elif(self.state[1] == 0):\n",
        "        action = np.random.choice([0,1,2])\n",
        "    elif(self.state[1] == (self.N-1)):\n",
        "        action = np.random.choice([0,2,3])\n",
        "    else:\n",
        "      action = np.random.choice([0,1,2,3])   # all four actions available\n",
        "    # -------------------------------\n",
        "\n",
        "    return action    \n",
        "      \n",
        "  def display(self):\n",
        "    print(self.board)"
      ],
      "execution_count": null,
      "outputs": []
    },
    {
      "cell_type": "markdown",
      "metadata": {
        "id": "oizARLSBNMxB"
      },
      "source": [
        "### Environment creation and learning"
      ]
    },
    {
      "cell_type": "code",
      "metadata": {
        "id": "yGXRU7ImRnT6"
      },
      "source": [
        "def explore_exploit(env, Q, state, episode):\n",
        "  # Notice that if we always select our new action based on maximum Q-value we will never get to see any new path\n",
        "  # we have to explore the environment to know new paths\n",
        "  # randomly select whether to explore or exploit\n",
        "  # The probability of exploration should be exp(-episode*5e-4)\n",
        "  # for exploration get some random action\n",
        "  # for exploitation get action based on max Q value\n",
        "\n",
        "  # ----------\n",
        "  explore_prob = np.exp(-episode*5e-4)\n",
        "  explore_or_exploit = np.random.choice([0,1], p=[explore_prob, 1-explore_prob])\n",
        "  \n",
        "  if(explore_or_exploit == 0):\n",
        "    action = env.get_random_action()\n",
        "  else:\n",
        "    action = np.argmax(Q[state[0], state[1], :])\n",
        "  # -------------------------------\n",
        "\n",
        "  return action"
      ],
      "execution_count": null,
      "outputs": []
    },
    {
      "cell_type": "code",
      "metadata": {
        "id": "N6ym5P3-LxOz"
      },
      "source": [
        "def init_env_and_learn(N=6, M=12, gamma=0.8, lr=0.8):\n",
        "  # gamma: gamma param of total discounted reward\n",
        "  # lr: learning rate for Q updates\n",
        "  # N = grid size of frozen lake wil be N x N\n",
        "  # M = Number of holes\n",
        "  # returns env, Q-function, rewards\n",
        "\n",
        "  env = FrozenLake(N, M)\n",
        "  Q = np.zeros((N, N, 4))\n",
        "  \n",
        "  Q[0, :, 0] = -1e8     # To avoid invalid 'UP' action\n",
        "  Q[N-1, :, 2] = -1e8   # To avoid invalid 'Down' action\n",
        "  Q[:, 0, 3] = -1e8     # To avoid invalid 'LEFT' action\n",
        "  Q[:, N-1, 1] = -1e8   # To avoid invalid 'RIGHT' action\n",
        "\n",
        "  total_episodes = 3000 # i.e. the number of times RL agent will run through the board.\n",
        "  max_steps = N*N*3 # maximum number of steps to perform\n",
        "\n",
        "  rewards = []\n",
        "  for episode in range(total_episodes):\n",
        "    state = env.reset()\n",
        "    total_rewards = 0\n",
        "\n",
        "    for step in range(max_steps):\n",
        "      action = explore_exploit(env, Q, state, episode)\n",
        "\n",
        "      # ----------------------------------------------------------\n",
        "      # Should perform the action get reward, new_state, finish status and update the Q value\n",
        "      new_state, reward, finish = env.step(action)\n",
        "      Q[state][action] = Q[state][action] + lr*(reward + gamma*np.max(Q[new_state]) - Q[state][action])\n",
        "      # -------------------------------------------------------------------------------\n",
        "\n",
        "      total_rewards += reward\n",
        "      state = new_state\n",
        "      \n",
        "      if finish == 1: \n",
        "          break\n",
        "\n",
        "    rewards.append(total_rewards)\n",
        "\n",
        "  return env, Q, rewards"
      ],
      "execution_count": null,
      "outputs": []
    },
    {
      "cell_type": "code",
      "metadata": {
        "id": "6z8EuJ6sXCTK"
      },
      "source": [
        "def travel_path(env, Q):\n",
        "  # displays a sequence of path performed using the learned Q-values\n",
        "  # shows initial and final frozen lake board \n",
        "  # to perform an action at a state simply take max of Q at that state\n",
        "\n",
        "  #  ----------\n",
        "  state = env.reset()\n",
        "  finish = False\n",
        "  N=env.N\n",
        "  for step in range(3*N*N):\n",
        "    action = np.argmax(Q[state])\n",
        "    state, _, finish = env.step(action)\n",
        "\n",
        "    print(' Action: ', ActionMap[action], ' | Step No: ', step+1, ' ')\n",
        "    env.display()\n",
        "    print()\n",
        "\n",
        "    if finish:\n",
        "        break\n",
        "\n",
        "  if finish == False:\n",
        "    print('No Solution Found!')\n",
        "\n",
        "  # -------------------------------\n",
        "\n",
        "  return finish"
      ],
      "execution_count": 21,
      "outputs": []
    },
    {
      "cell_type": "markdown",
      "metadata": {
        "id": "Ios3sB8ZYDTN"
      },
      "source": [
        "### Use N = 6, M = 10 and learn the models for following sets of gamma and lr:\n",
        "\n",
        "*   `(gamma, lr) = (0.8, 0.8)`\n",
        "*   `(gamma, lr) = (0.95, 0.8)`\n",
        "*   `(gamma, lr) = (0.6, 0.8)`\n",
        "*   `(gamma, lr) = (0.8, 0.95)`\n",
        "*   `(gamma, lr) = (0.8, 0.1)`\n",
        "\n",
        "Plot rewards vs episode for each of them and compare.\n",
        "\n"
      ]
    },
    {
      "cell_type": "code",
      "metadata": {
        "id": "1BB8d1_3MhsL",
        "colab": {
          "base_uri": "https://localhost:8080/",
          "height": 1000
        },
        "outputId": "bbc938ef-9545-491a-db12-8783c96b481c"
      },
      "source": [
        "import time\n",
        "#  ----------\n",
        "for (gamma, lr) in [(0.8, 0.8), (0.95, 0.8), (0.6, 0.8), (0.8, 0.95), (0.8, 0.1)]:\n",
        "  print(\"| gamma: \" + str(gamma) + \" | lr: \" + str(lr) + \" |\")\n",
        "  soln_exist = 0\n",
        "  start = time.time()\n",
        "  env, Q, rewards = init_env_and_learn(N=6, M=10, gamma=gamma, lr=lr)\n",
        "  end = time.time()\n",
        "\n",
        "  print(\"time to train: {}, average reward: {}\".format(end-start, sum(rewards)/len(rewards)))\n",
        "  soln_exist = travel_path(env, Q)\n",
        "\n",
        "  while soln_exist == 0:\n",
        "    env, Q, rewards = init_env_and_learn(N=6, M=10, gamma=gamma, lr=lr)\n",
        "    soln_exist = travel_path(env, Q)\n",
        "\n",
        "  rewards = np.array(rewards)\n",
        "\n",
        "  plt.figure()\n",
        "  plt.scatter(range(len(rewards)), rewards)\n",
        "  plt.ylabel('Total Rewards')\n",
        "  plt.xlabel('Episodes')\n",
        "  plt.title(\"| gamma: \" + str(gamma) + \" | lr: \" + str(lr) + \" |\")"
      ],
      "execution_count": null,
      "outputs": [
        {
          "output_type": "stream",
          "text": [
            "| gamma: 0.8 | lr: 0.8 |\n",
            "time to train: 6.408490419387817, average reward: -155.85\n",
            "| gamma: 0.95 | lr: 0.8 |\n",
            "time to train: 5.900487661361694, average reward: -192.88333333333333\n",
            "| gamma: 0.6 | lr: 0.8 |\n",
            "time to train: 6.584876537322998, average reward: -134.16666666666666\n",
            "| gamma: 0.8 | lr: 0.95 |\n",
            "time to train: 6.283862590789795, average reward: -143.08333333333334\n",
            "| gamma: 0.8 | lr: 0.1 |\n",
            "time to train: 21.21455979347229, average reward: -407.5\n"
          ],
          "name": "stdout"
        },
        {
          "output_type": "display_data",
          "data": {
            "image/png": "[encoded data removed]",
            "text/plain": [
              "<Figure size 432x288 with 1 Axes>"
            ]
          },
          "metadata": {
            "tags": [],
            "needs_background": "light"
          }
        },
        {
          "output_type": "display_data",
          "data": {
            "image/png": "[encoded data removed]",
            "text/plain": [
              "<Figure size 432x288 with 1 Axes>"
            ]
          },
          "metadata": {
            "tags": [],
            "needs_background": "light"
          }
        },
        {
          "output_type": "display_data",
          "data": {
            "image/png": "[encoded data removed]",
            "text/plain": [
              "<Figure size 432x288 with 1 Axes>"
            ]
          },
          "metadata": {
            "tags": [],
            "needs_background": "light"
          }
        },
        {
          "output_type": "display_data",
          "data": {
            "image/png": "[encoded data removed]",
            "text/plain": [
              "<Figure size 432x288 with 1 Axes>"
            ]
          },
          "metadata": {
            "tags": [],
            "needs_background": "light"
          }
        },
        {
          "output_type": "display_data",
          "data": {
            "image/png": "[encoded data removed]",
            "text/plain": [
              "<Figure size 432x288 with 1 Axes>"
            ]
          },
          "metadata": {
            "tags": [],
            "needs_background": "light"
          }
        }
      ]
    },
    {
      "cell_type": "markdown",
      "metadata": {
        "id": "yI5oHjVbZkIW"
      },
      "source": [
        "### Use N = 6, M = 10 and learn a models with (gamma, lr) = (0.8, 0.8)\n",
        "After learning the model, display a path traveled from source to goal."
      ]
    },
    {
      "cell_type": "code",
      "metadata": {
        "id": "RtDOaUEeMi-0",
        "colab": {
          "base_uri": "https://localhost:8080/"
        },
        "outputId": "4151b6e2-bdc6-4a08-826a-5563db8971d8"
      },
      "source": [
        "#  ----------\n",
        "env, Q, rewards = init_env_and_learn(N=6, M=10, gamma=0.8, lr=0.8)\n",
        "soln_exist = travel_path(env, Q)\n",
        "# -------------------------------"
      ],
      "execution_count": 22,
      "outputs": [
        {
          "output_type": "stream",
          "text": [
            " Action:  Right  | Step No:  1  \n",
            "[['S' 'C' 'F' 'H' 'F' 'H']\n",
            " ['H' 'F' 'F' 'F' 'F' 'H']\n",
            " ['H' 'H' 'F' 'H' 'F' 'F']\n",
            " ['F' 'F' 'F' 'F' 'F' 'H']\n",
            " ['F' 'F' 'F' 'F' 'F' 'F']\n",
            " ['F' 'F' 'F' 'H' 'F' 'G']]\n",
            "\n",
            " Action:  Right  | Step No:  2  \n",
            "[['S' 'F' 'C' 'H' 'F' 'H']\n",
            " ['H' 'F' 'F' 'F' 'F' 'H']\n",
            " ['H' 'H' 'F' 'H' 'F' 'F']\n",
            " ['F' 'F' 'F' 'F' 'F' 'H']\n",
            " ['F' 'F' 'F' 'F' 'F' 'F']\n",
            " ['F' 'F' 'F' 'H' 'F' 'G']]\n",
            "\n",
            " Action:  Down  | Step No:  3  \n",
            "[['S' 'F' 'F' 'H' 'F' 'H']\n",
            " ['H' 'F' 'C' 'F' 'F' 'H']\n",
            " ['H' 'H' 'F' 'H' 'F' 'F']\n",
            " ['F' 'F' 'F' 'F' 'F' 'H']\n",
            " ['F' 'F' 'F' 'F' 'F' 'F']\n",
            " ['F' 'F' 'F' 'H' 'F' 'G']]\n",
            "\n",
            " Action:  Right  | Step No:  4  \n",
            "[['S' 'F' 'F' 'H' 'F' 'H']\n",
            " ['H' 'F' 'F' 'C' 'F' 'H']\n",
            " ['H' 'H' 'F' 'H' 'F' 'F']\n",
            " ['F' 'F' 'F' 'F' 'F' 'H']\n",
            " ['F' 'F' 'F' 'F' 'F' 'F']\n",
            " ['F' 'F' 'F' 'H' 'F' 'G']]\n",
            "\n",
            " Action:  Right  | Step No:  5  \n",
            "[['S' 'F' 'F' 'H' 'F' 'H']\n",
            " ['H' 'F' 'F' 'F' 'C' 'H']\n",
            " ['H' 'H' 'F' 'H' 'F' 'F']\n",
            " ['F' 'F' 'F' 'F' 'F' 'H']\n",
            " ['F' 'F' 'F' 'F' 'F' 'F']\n",
            " ['F' 'F' 'F' 'H' 'F' 'G']]\n",
            "\n",
            " Action:  Down  | Step No:  6  \n",
            "[['S' 'F' 'F' 'H' 'F' 'H']\n",
            " ['H' 'F' 'F' 'F' 'F' 'H']\n",
            " ['H' 'H' 'F' 'H' 'C' 'F']\n",
            " ['F' 'F' 'F' 'F' 'F' 'H']\n",
            " ['F' 'F' 'F' 'F' 'F' 'F']\n",
            " ['F' 'F' 'F' 'H' 'F' 'G']]\n",
            "\n",
            " Action:  Down  | Step No:  7  \n",
            "[['S' 'F' 'F' 'H' 'F' 'H']\n",
            " ['H' 'F' 'F' 'F' 'F' 'H']\n",
            " ['H' 'H' 'F' 'H' 'F' 'F']\n",
            " ['F' 'F' 'F' 'F' 'C' 'H']\n",
            " ['F' 'F' 'F' 'F' 'F' 'F']\n",
            " ['F' 'F' 'F' 'H' 'F' 'G']]\n",
            "\n",
            " Action:  Down  | Step No:  8  \n",
            "[['S' 'F' 'F' 'H' 'F' 'H']\n",
            " ['H' 'F' 'F' 'F' 'F' 'H']\n",
            " ['H' 'H' 'F' 'H' 'F' 'F']\n",
            " ['F' 'F' 'F' 'F' 'F' 'H']\n",
            " ['F' 'F' 'F' 'F' 'C' 'F']\n",
            " ['F' 'F' 'F' 'H' 'F' 'G']]\n",
            "\n",
            " Action:  Right  | Step No:  9  \n",
            "[['S' 'F' 'F' 'H' 'F' 'H']\n",
            " ['H' 'F' 'F' 'F' 'F' 'H']\n",
            " ['H' 'H' 'F' 'H' 'F' 'F']\n",
            " ['F' 'F' 'F' 'F' 'F' 'H']\n",
            " ['F' 'F' 'F' 'F' 'F' 'C']\n",
            " ['F' 'F' 'F' 'H' 'F' 'G']]\n",
            "\n",
            " Action:  Down  | Step No:  10  \n",
            "[['S' 'F' 'F' 'H' 'F' 'H']\n",
            " ['H' 'F' 'F' 'F' 'F' 'H']\n",
            " ['H' 'H' 'F' 'H' 'F' 'F']\n",
            " ['F' 'F' 'F' 'F' 'F' 'H']\n",
            " ['F' 'F' 'F' 'F' 'F' 'F']\n",
            " ['F' 'F' 'F' 'H' 'F' 'C']]\n",
            "\n"
          ],
          "name": "stdout"
        }
      ]
    },
    {
      "cell_type": "markdown",
      "metadata": {
        "id": "TZygGCOvc6If"
      },
      "source": [
        "Reference:[BCS_Workshop_Apr_20](https://github.com/bcs-iitk/BCS_Workshop_Apr_20)"
      ]
    }
  ]
}