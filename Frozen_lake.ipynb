{
  "nbformat": 4,
  "nbformat_minor": 0,
  "metadata": {
    "colab": {
      "name": "Frozen_lake.ipynb",
      "provenance": [],
      "collapsed_sections": [],
      "include_colab_link": true
    },
    "kernelspec": {
      "name": "python3",
      "display_name": "Python 3"
    }
  },
  "cells": [
    {
      "cell_type": "markdown",
      "metadata": {
        "id": "view-in-github",
        "colab_type": "text"
      },
      "source": [
        "<a href=\"https://colab.research.google.com/github/Sanjayso27/RL_Frozen_Lake/blob/main/Frozen_lake.ipynb\" target=\"_parent\"><img src=\"https://colab.research.google.com/assets/colab-badge.svg\" alt=\"Open In Colab\"/></a>"
      ]
    },
    {
      "cell_type": "markdown",
      "metadata": {
        "id": "qH7ubidoNaEv"
      },
      "source": [
        "### Frozen Lake Problem Description:"
      ]
    },
    {
      "cell_type": "markdown",
      "metadata": {
        "id": "LTCY_Ip1M9Qc"
      },
      "source": [
        "> Imagine there is a frozen lake stretching from your home to your office; you have to walk on the frozen lake to reach your office. But oops! There are holes in the frozen lake so you have to be careful while walking on the frozen lake to avoid getting trapped in the holes. [[src](https://subscription.packtpub.com/book/big_data_and_business_intelligence/9781788836524/3/ch03lvl1sec32/solving-the-frozen-lake-problem)]\n",
        "\n",
        "![frozen-lake](https://static.packt-cdn.com/products/9781788836524/graphics/49f3e058-2f32-40e8-9992-b53d1f57d138.png)\n",
        "\n",
        "\n",
        "Two task you have to do here:\n",
        "\n",
        "*   Implement a frozen lake scenario given the inputs, number of holes (M) and size of the lake (N) (Assume the lake is square). Starting point will be (0, 0) and goal will be to reach at (N-1, N-1)\n",
        "*   Implemenat Q-learning method to learn a path from start to goal.\n",
        "*   Use the following reward scheme: 50 points on reaching the goal, -50 points on stepping on a hole.\n",
        "\n",
        "#### Q-learning\n",
        "Recall from the lecture video that `Q[state, action]` gives you an action state pair to get an optimal policy. Recall the Q-Loss from the lecture video i.e:\n",
        "> $E = ||r + \\gamma \\cdot \\max_{a'} Q(s', a') - Q(s, a)||^2$\n",
        "\n",
        "Use gradient descent to minimise $E$ and work out a learning rule for $Q(s, a)$. \n",
        "> Take $\\max_{a'} Q(s', a')$ and $r$ to be independent of $Q(s, a)$.\n"
      ]
    },
    {
      "cell_type": "markdown",
      "metadata": {
        "id": "pbkIHLK7NFEw"
      },
      "source": [
        "### Defining important functions"
      ]
    },
    {
      "cell_type": "code",
      "metadata": {
        "id": "QnnNULcYQNRj"
      },
      "source": [
        "import numpy as np\n",
        "import matplotlib.pyplot as plt\n",
        "import copy\n",
        "\n",
        "from numpy.random import choice as randC\n",
        "from numpy.random import uniform as randU"
      ],
      "execution_count": 2,
      "outputs": []
    },
    {
      "cell_type": "code",
      "metadata": {
        "id": "n9vGeSBZEG-r"
      },
      "source": [
        "ActionMap = ['Up', 'Right', 'Down', 'Left']"
      ],
      "execution_count": 3,
      "outputs": []
    },
    {
      "cell_type": "code",
      "metadata": {
        "id": "izQzYoXBHVgr"
      },
      "source": [
        "def get_board(N, M):\n",
        "  # should return an N x N size frozen lake - board with M randomle placed holes.\n",
        "  # use 'S' representation for starting point\n",
        "  # use 'G' representation for goal point\n",
        "  # use 'H' representation for holes\n",
        "  # use 'F' for frozen lakes\n",
        "  # use 'C' for displaying agents current position on the board.\n",
        "  # Refer the representation from the image shown above\n",
        "\n",
        "  # Write your code here ----------\n",
        "  H = randC(N*N-2, M, replace=False) + 1      \n",
        "  \n",
        "  row = ['F' for i in range(N)]\n",
        "  board = [row for i in range(N)]\n",
        "  board = np.array(board, dtype=str)\n",
        "\n",
        "  for i in H:\n",
        "      board[int(i/N)][int(i%N)] = 'H'\n",
        "  \n",
        "  board[0, 0] = 'S'\n",
        "  board[N-1, N-1] = 'G'\n",
        "  # -------------------------------\n",
        "\n",
        "  return board"
      ],
      "execution_count": 4,
      "outputs": []
    },
    {
      "cell_type": "code",
      "metadata": {
        "id": "nu6PW4KhIZH7"
      },
      "source": [
        "def get_reward(board, N, M):\n",
        "  # should return an N x N size reward table for the generated frozen lake scenario\n",
        "  # use 50 reward for 'G' point\n",
        "  # use -50 reward for 'H' point\n",
        "  # o for rest.\n",
        "\n",
        "  # Write your code here ----------\n",
        "\n",
        "  reward = np.zeros(board.shape).astype('int')\n",
        "\n",
        "  for i in range(board.shape[0]):\n",
        "    for j in range(board.shape[1]):\n",
        "      if(board[i][j] == 'H'):\n",
        "        reward[i][j] = -50\n",
        "      if(board[i][j] == 'G'):\n",
        "        reward[i][j] = 50\n",
        "\n",
        "  # -------------------------------\n",
        "\n",
        "  return reward"
      ],
      "execution_count": 5,
      "outputs": []
    },
    {
      "cell_type": "code",
      "metadata": {
        "id": "B1ueYhO8Ecnh"
      },
      "source": [
        "class FrozenLake:\n",
        "  def __init__(self, N, M):\n",
        "    # Recall python class, this function is called when you first initialise the class\n",
        "    # Should intialise the board and reward table based on the reward scheme\n",
        "    # Select M numbers of holes randomly\n",
        "\n",
        "    self.board = get_board(N, M)\n",
        "    self.init_board = copy.deepcopy(self.board)\n",
        "    self.reward = get_reward(self.board, N, M)\n",
        "    self.state = (0, 0)\n",
        "    self.board[self.state] = 'C'\n",
        "    self.finish = 0\n",
        "    self.N = N\n",
        "\n",
        "  def reset(self):\n",
        "    # should reset the env with board to initial state\n",
        "    # hint: set self.state at 0, 0 and use self.init_board to reset self.board\n",
        "\n",
        "    # Write your code here ----------\n",
        "    self.state = (0, 0)\n",
        "    self.board = copy.deepcopy(self.init_board)\n",
        "    self.board[self.state] = 'C'\n",
        "    # -------------------------------\n",
        "    self.finish = 0\n",
        "\n",
        "    return self.state\n",
        "  \n",
        "  def step(self, action):\n",
        "    # ===== Action Table =========\n",
        "    #     0 -- UP\n",
        "    #     1 -- RIGHT\n",
        "    #     2 -- DOWN\n",
        "    #     3 -- LEFT\n",
        "    # perform the given action and get update the  self.state, get reward, and update the self.board according to new state\n",
        "    # update the self.board means update the new position with 'C' and replace previous position with {'S', 'F', 'G'} which is actually there according to the self.init_board\n",
        "\n",
        "    # Write your code here ----------\n",
        "    self.board[self.state] = self.init_board[self.state]\n",
        "\n",
        "    if action == 0: self.state = (self.state[0] - 1, self.state[1])\n",
        "    elif action == 1: self.state = (self.state[0], self.state[1] + 1)\n",
        "    elif action == 2: self.state = (self.state[0] + 1, self.state[1])\n",
        "    elif action == 3: self.state = (self.state[0], self.state[1] - 1)\n",
        "\n",
        "    reward = self.reward[self.state]\n",
        "\n",
        "    self.board[self.state] = 'C'\n",
        "    N = self.N\n",
        "    # -------------------------------\n",
        "    \n",
        "    # status to check if you reached your goal\n",
        "    if self.state == (N-1, N-1):\n",
        "        self.finish = 1\n",
        "        \n",
        "    return self.state, reward, self.finish\n",
        "  \n",
        "  def get_random_action(self):\n",
        "    # ===== Action Table =========\n",
        "    #     0 -- UP\n",
        "    #     1 -- RIGHT\n",
        "    #     2 -- DOWN\n",
        "    #     3 -- LEFT\n",
        "    # should return a possible random action out of the four\n",
        "    # hint: note that when you are around the corner or sides of the board not all four action will be available for you\n",
        "\n",
        "    # Write your code here ----------\n",
        "    valid_actions = [0, 1, 2, 3]\n",
        "\n",
        "    if self.state[0] == 0: valid_actions.remove(0)\n",
        "    if self.state[0] == self.N-1: valid_actions.remove(2)\n",
        "    if self.state[1] == 0: valid_actions.remove(3)\n",
        "    if self.state[1] == self.N-1: valid_actions.remove(1)\n",
        "    # -------------------------------\n",
        "\n",
        "    action = randC(valid_actions)\n",
        "\n",
        "    return action    \n",
        "      \n",
        "  def display(self):\n",
        "    print(self.board)"
      ],
      "execution_count": 6,
      "outputs": []
    },
    {
      "cell_type": "markdown",
      "metadata": {
        "id": "oizARLSBNMxB"
      },
      "source": [
        "### Environment creation and learning"
      ]
    },
    {
      "cell_type": "code",
      "metadata": {
        "id": "yGXRU7ImRnT6"
      },
      "source": [
        "def explore_exploit(env, Q, state, episode):\n",
        "  # Notice that if you always select your new action based on maximum Q-value you will never get to see any new path right?\n",
        "  # You have to explore the environment to know new paths\n",
        "  # Write your code here to randomly select whether you want to explore or exploit\n",
        "  # The probability of exploration should be exp(-episode*5e-4)\n",
        "  # for exploration get some random action\n",
        "  # for exploitation get action based on max Q value\n",
        "\n",
        "  # Write your code here ----------\n",
        "  exploit = randU(0,1)\n",
        "  if exploit > np.exp(-episode*5e-4):\n",
        "      action = np.argmax(Q[state])\n",
        "  else:\n",
        "      action = env.get_random_action()\n",
        "  # -------------------------------\n",
        "\n",
        "  return action"
      ],
      "execution_count": 7,
      "outputs": []
    },
    {
      "cell_type": "code",
      "metadata": {
        "id": "N6ym5P3-LxOz"
      },
      "source": [
        "def init_env_and_learn(N=6, M=12, gamma=0.8, lr=0.8):\n",
        "  # gamma: gamma param of total discounted reward\n",
        "  # lr: learning rate for Q updates\n",
        "  # N = grid size of frozen lake wil be N x N\n",
        "  # M = Number of holes\n",
        "  # returns env, Q-function, rewards\n",
        "\n",
        "  env = FrozenLake(N, M)\n",
        "  Q = np.zeros((N, N, 4))\n",
        "  \n",
        "  Q[0, :, 0] = -1e8     # To avoid invalid 'UP' action\n",
        "  Q[N-1, :, 2] = -1e8   # To avoid invalid 'Down' action\n",
        "  Q[:, 0, 3] = -1e8     # To avoid invalid 'LEFT' action\n",
        "  Q[:, N-1, 1] = -1e8   # To avoid invalid 'RIGHT' action\n",
        "\n",
        "  total_episodes = 3000 # i.e. the number of times your RL agent will run through the board.\n",
        "  max_steps = N*N*3 # maximum number of steps to perform\n",
        "\n",
        "  rewards = []\n",
        "  for episode in range(total_episodes):\n",
        "    state = env.reset()\n",
        "    total_rewards = 0\n",
        "\n",
        "    for step in range(max_steps):\n",
        "      action = explore_exploit(env, Q, state, episode)\n",
        "\n",
        "      # Write your code here ----------------------------------------------------------\n",
        "      # Should perform the action get reward, new_state, finish status and update the Q value\n",
        "      new_state, reward, finish = env.step(action)\n",
        "      Q[state][action] = Q[state][action] + lr*(reward + gamma*np.max(Q[new_state]) - Q[state][action])\n",
        "      # -------------------------------------------------------------------------------\n",
        "\n",
        "      total_rewards += reward\n",
        "      state = new_state\n",
        "      \n",
        "      if finish == 1: \n",
        "          break\n",
        "\n",
        "    rewards.append(total_rewards)\n",
        "\n",
        "  return env, Q, rewards"
      ],
      "execution_count": 8,
      "outputs": []
    },
    {
      "cell_type": "code",
      "metadata": {
        "id": "6z8EuJ6sXCTK"
      },
      "source": [
        "def travel_path(env, Q, show_display=False):\n",
        "  # write a function to display a sequence of path performed using the learned Q-values\n",
        "  # show initial and final frozen lake board \n",
        "  # to perform an action at a state simply take max of Q at that state\n",
        "\n",
        "  # Write your code here ----------\n",
        "  state = env.reset()\n",
        "  finish = 0\n",
        "  for step in range(3*env.N*env.N):\n",
        "    action = np.argmax(Q[state])\n",
        "    state, reward, finish = env.step(action)\n",
        "\n",
        "    if show_display:\n",
        "      print('--------------------------------')\n",
        "      print(' Action: ', ActionMap[action], ' | Step No.: ', step+1, ' ')\n",
        "      print('--------------------------------')\n",
        "      env.display()\n",
        "      print()\n",
        "\n",
        "    if finish:\n",
        "        break\n",
        "\n",
        "  if finish == 0 and show_display:\n",
        "    print('Sorry No Solution Found!!')\n",
        "\n",
        "  # -------------------------------\n",
        "\n",
        "  return finish"
      ],
      "execution_count": 10,
      "outputs": []
    },
    {
      "cell_type": "markdown",
      "metadata": {
        "id": "Ios3sB8ZYDTN"
      },
      "source": [
        "### Use N = 6, M = 10 and learn the models for following sets of gamma and lr:\n",
        "\n",
        "*   `(gamma, lr) = (0.8, 0.8)`\n",
        "*   `(gamma, lr) = (0.95, 0.8)`\n",
        "*   `(gamma, lr) = (0.6, 0.8)`\n",
        "*   `(gamma, lr) = (0.8, 0.95)`\n",
        "*   `(gamma, lr) = (0.8, 0.1)`\n",
        "\n",
        "Plot rewards vs episode for each of them and compare.\n",
        "\n"
      ]
    },
    {
      "cell_type": "code",
      "metadata": {
        "id": "1BB8d1_3MhsL",
        "colab": {
          "base_uri": "https://localhost:8080/",
          "height": 1000
        },
        "outputId": "4744e69d-b2b4-46a3-e26f-51afde66f599"
      },
      "source": [
        "import time\n",
        "# Write your code here ----------\n",
        "for (gamma, lr) in [(0.8, 0.8), (0.95, 0.8), (0.6, 0.8), (0.8, 0.95), (0.8, 0.1)]:\n",
        "  print(\"| gamma: \" + str(gamma) + \" | lr: \" + str(lr) + \" |\")\n",
        "  soln_exist = 0\n",
        "  start = time.time()\n",
        "  env, Q, rewards = init_env_and_learn(N=6, M=10, gamma=gamma, lr=lr)\n",
        "  end = time.time()\n",
        "\n",
        "  print(\"time to train: {}, average reward: {}\".format(end-start, sum(rewards)/len(rewards)))\n",
        "  soln_exist = travel_path(env, Q)\n",
        "\n",
        "  while soln_exist == 0:\n",
        "    env, Q, rewards = init_env_and_learn(N=6, M=10, gamma=gamma, lr=lr)\n",
        "    soln_exist = travel_path(env, Q)\n",
        "\n",
        "  rewards = np.array(rewards)\n",
        "\n",
        "  plt.figure()\n",
        "  plt.scatter(range(len(rewards)), rewards)\n",
        "  plt.ylabel('Total Rewards')\n",
        "  plt.xlabel('Episodes')\n",
        "  plt.title(\"| gamma: \" + str(gamma) + \" | lr: \" + str(lr) + \" |\")"
      ],
      "execution_count": 13,
      "outputs": [
        {
          "output_type": "stream",
          "text": [
            "| gamma: 0.8 | lr: 0.8 |\n",
            "time to train: 4.037098407745361, average reward: -207.61666666666667\n",
            "| gamma: 0.95 | lr: 0.8 |\n",
            "time to train: 3.7269556522369385, average reward: -152.63333333333333\n",
            "| gamma: 0.6 | lr: 0.8 |\n",
            "time to train: 4.47450852394104, average reward: -199.3\n",
            "| gamma: 0.8 | lr: 0.95 |\n",
            "time to train: 3.7779126167297363, average reward: -197.23333333333332\n",
            "| gamma: 0.8 | lr: 0.1 |\n",
            "time to train: 11.699333190917969, average reward: -545.1666666666666\n"
          ],
          "name": "stdout"
        },
        {
          "output_type": "display_data",
          "data": {
            "image/png": "[encoded data removed]",
            "text/plain": [
              "<Figure size 432x288 with 1 Axes>"
            ]
          },
          "metadata": {
            "tags": [],
            "needs_background": "light"
          }
        },
        {
          "output_type": "display_data",
          "data": {
            "image/png": "[encoded data removed]",
            "text/plain": [
              "<Figure size 432x288 with 1 Axes>"
            ]
          },
          "metadata": {
            "tags": [],
            "needs_background": "light"
          }
        },
        {
          "output_type": "display_data",
          "data": {
            "image/png": "[encoded data removed]",
            "text/plain": [
              "<Figure size 432x288 with 1 Axes>"
            ]
          },
          "metadata": {
            "tags": [],
            "needs_background": "light"
          }
        },
        {
          "output_type": "display_data",
          "data": {
            "image/png": "[encoded data removed]",
            "text/plain": [
              "<Figure size 432x288 with 1 Axes>"
            ]
          },
          "metadata": {
            "tags": [],
            "needs_background": "light"
          }
        },
        {
          "output_type": "display_data",
          "data": {
            "image/png": "[encoded data removed]",
            "text/plain": [
              "<Figure size 432x288 with 1 Axes>"
            ]
          },
          "metadata": {
            "tags": [],
            "needs_background": "light"
          }
        }
      ]
    },
    {
      "cell_type": "markdown",
      "metadata": {
        "id": "yI5oHjVbZkIW"
      },
      "source": [
        "### Use N = 6, M = 10 and learn a models with (gamma, lr) = (0.8, 0.8)\n",
        "After learning the model, display a path traveled from source to goal."
      ]
    },
    {
      "cell_type": "code",
      "metadata": {
        "id": "RtDOaUEeMi-0",
        "colab": {
          "base_uri": "https://localhost:8080/"
        },
        "outputId": "90cd3b20-2da1-487e-e77b-7ba2192eb2b4"
      },
      "source": [
        "# Write your code here ----------\n",
        "env, Q, rewards = init_env_and_learn(N=6, M=10, gamma=0.8, lr=0.8)\n",
        "soln_exist = travel_path(env, Q, show_display=True)\n",
        "# -------------------------------"
      ],
      "execution_count": null,
      "outputs": [
        {
          "output_type": "stream",
          "text": [
            "--------------------------------\n",
            " Action:  Down  | Step No.:  1  \n",
            "--------------------------------\n",
            "[['S' 'H' 'F' 'F' 'F' 'F']\n",
            " ['C' 'H' 'F' 'F' 'H' 'F']\n",
            " ['F' 'F' 'F' 'F' 'H' 'F']\n",
            " ['F' 'H' 'F' 'F' 'F' 'F']\n",
            " ['H' 'H' 'F' 'H' 'H' 'F']\n",
            " ['F' 'F' 'H' 'F' 'F' 'G']]\n",
            "\n",
            "--------------------------------\n",
            " Action:  Down  | Step No.:  2  \n",
            "--------------------------------\n",
            "[['S' 'H' 'F' 'F' 'F' 'F']\n",
            " ['F' 'H' 'F' 'F' 'H' 'F']\n",
            " ['C' 'F' 'F' 'F' 'H' 'F']\n",
            " ['F' 'H' 'F' 'F' 'F' 'F']\n",
            " ['H' 'H' 'F' 'H' 'H' 'F']\n",
            " ['F' 'F' 'H' 'F' 'F' 'G']]\n",
            "\n",
            "--------------------------------\n",
            " Action:  Right  | Step No.:  3  \n",
            "--------------------------------\n",
            "[['S' 'H' 'F' 'F' 'F' 'F']\n",
            " ['F' 'H' 'F' 'F' 'H' 'F']\n",
            " ['F' 'C' 'F' 'F' 'H' 'F']\n",
            " ['F' 'H' 'F' 'F' 'F' 'F']\n",
            " ['H' 'H' 'F' 'H' 'H' 'F']\n",
            " ['F' 'F' 'H' 'F' 'F' 'G']]\n",
            "\n",
            "--------------------------------\n",
            " Action:  Right  | Step No.:  4  \n",
            "--------------------------------\n",
            "[['S' 'H' 'F' 'F' 'F' 'F']\n",
            " ['F' 'H' 'F' 'F' 'H' 'F']\n",
            " ['F' 'F' 'C' 'F' 'H' 'F']\n",
            " ['F' 'H' 'F' 'F' 'F' 'F']\n",
            " ['H' 'H' 'F' 'H' 'H' 'F']\n",
            " ['F' 'F' 'H' 'F' 'F' 'G']]\n",
            "\n",
            "--------------------------------\n",
            " Action:  Right  | Step No.:  5  \n",
            "--------------------------------\n",
            "[['S' 'H' 'F' 'F' 'F' 'F']\n",
            " ['F' 'H' 'F' 'F' 'H' 'F']\n",
            " ['F' 'F' 'F' 'C' 'H' 'F']\n",
            " ['F' 'H' 'F' 'F' 'F' 'F']\n",
            " ['H' 'H' 'F' 'H' 'H' 'F']\n",
            " ['F' 'F' 'H' 'F' 'F' 'G']]\n",
            "\n",
            "--------------------------------\n",
            " Action:  Down  | Step No.:  6  \n",
            "--------------------------------\n",
            "[['S' 'H' 'F' 'F' 'F' 'F']\n",
            " ['F' 'H' 'F' 'F' 'H' 'F']\n",
            " ['F' 'F' 'F' 'F' 'H' 'F']\n",
            " ['F' 'H' 'F' 'C' 'F' 'F']\n",
            " ['H' 'H' 'F' 'H' 'H' 'F']\n",
            " ['F' 'F' 'H' 'F' 'F' 'G']]\n",
            "\n",
            "--------------------------------\n",
            " Action:  Right  | Step No.:  7  \n",
            "--------------------------------\n",
            "[['S' 'H' 'F' 'F' 'F' 'F']\n",
            " ['F' 'H' 'F' 'F' 'H' 'F']\n",
            " ['F' 'F' 'F' 'F' 'H' 'F']\n",
            " ['F' 'H' 'F' 'F' 'C' 'F']\n",
            " ['H' 'H' 'F' 'H' 'H' 'F']\n",
            " ['F' 'F' 'H' 'F' 'F' 'G']]\n",
            "\n",
            "--------------------------------\n",
            " Action:  Right  | Step No.:  8  \n",
            "--------------------------------\n",
            "[['S' 'H' 'F' 'F' 'F' 'F']\n",
            " ['F' 'H' 'F' 'F' 'H' 'F']\n",
            " ['F' 'F' 'F' 'F' 'H' 'F']\n",
            " ['F' 'H' 'F' 'F' 'F' 'C']\n",
            " ['H' 'H' 'F' 'H' 'H' 'F']\n",
            " ['F' 'F' 'H' 'F' 'F' 'G']]\n",
            "\n",
            "--------------------------------\n",
            " Action:  Down  | Step No.:  9  \n",
            "--------------------------------\n",
            "[['S' 'H' 'F' 'F' 'F' 'F']\n",
            " ['F' 'H' 'F' 'F' 'H' 'F']\n",
            " ['F' 'F' 'F' 'F' 'H' 'F']\n",
            " ['F' 'H' 'F' 'F' 'F' 'F']\n",
            " ['H' 'H' 'F' 'H' 'H' 'C']\n",
            " ['F' 'F' 'H' 'F' 'F' 'G']]\n",
            "\n",
            "--------------------------------\n",
            " Action:  Down  | Step No.:  10  \n",
            "--------------------------------\n",
            "[['S' 'H' 'F' 'F' 'F' 'F']\n",
            " ['F' 'H' 'F' 'F' 'H' 'F']\n",
            " ['F' 'F' 'F' 'F' 'H' 'F']\n",
            " ['F' 'H' 'F' 'F' 'F' 'F']\n",
            " ['H' 'H' 'F' 'H' 'H' 'F']\n",
            " ['F' 'F' 'H' 'F' 'F' 'C']]\n",
            "\n"
          ],
          "name": "stdout"
        }
      ]
    },
    {
      "cell_type": "markdown",
      "metadata": {
        "id": "TZygGCOvc6If"
      },
      "source": [
        "Reference:[BCS_Workshop_Apr_20](https://github.com/bcs-iitk/BCS_Workshop_Apr_20)"
      ]
    }
  ]
}